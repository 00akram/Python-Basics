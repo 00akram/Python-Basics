{
  "nbformat": 4,
  "nbformat_minor": 0,
  "metadata": {
    "colab": {
      "provenance": [],
      "collapsed_sections": []
    },
    "kernelspec": {
      "name": "python3",
      "display_name": "Python 3"
    },
    "language_info": {
      "name": "python"
    }
  },
  "cells": [
    {
      "cell_type": "markdown",
      "source": [
        "# Print Command in Python!"
      ],
      "metadata": {
        "id": "5LQNllsadAur"
      }
    },
    {
      "cell_type": "code",
      "source": [
        "#print function \n",
        "print(\"Hello World\")\n",
        "print(\"Start my data science journey.\")"
      ],
      "metadata": {
        "colab": {
          "base_uri": "https://localhost:8080/"
        },
        "id": "y9CLYEFLTHXI",
        "outputId": "b88d4549-7f5a-4730-f12a-35dd82cf2952"
      },
      "execution_count": null,
      "outputs": [
        {
          "output_type": "stream",
          "name": "stdout",
          "text": [
            "Hello World\n",
            "Start my data science journey.\n"
          ]
        }
      ]
    },
    {
      "cell_type": "markdown",
      "source": [
        "## Variables in Python!"
      ],
      "metadata": {
        "id": "8hF2ksB4dNRV"
      }
    },
    {
      "cell_type": "code",
      "source": [
        "age=25\n",
        "print(age) #Don't need to use double quotation in printing variable.\n",
        "age #We can print value of the age variable just writing only the variable name.\n"
      ],
      "metadata": {
        "colab": {
          "base_uri": "https://localhost:8080/"
        },
        "id": "HhrzrKLtdSgu",
        "outputId": "65a15e12-7e38-4aec-9bcf-243d6d13b559"
      },
      "execution_count": null,
      "outputs": [
        {
          "output_type": "stream",
          "name": "stdout",
          "text": [
            "25\n"
          ]
        },
        {
          "output_type": "execute_result",
          "data": {
            "text/plain": [
              "25"
            ]
          },
          "metadata": {},
          "execution_count": 17
        }
      ]
    },
    {
      "cell_type": "code",
      "source": [
        "first_name= \"akram\" #We should write string value in double quotation.\n",
        "first_name"
      ],
      "metadata": {
        "colab": {
          "base_uri": "https://localhost:8080/",
          "height": 35
        },
        "id": "i1UXMESWe507",
        "outputId": "6ad552bf-7cec-4510-8af4-3a37d621345d"
      },
      "execution_count": null,
      "outputs": [
        {
          "output_type": "execute_result",
          "data": {
            "text/plain": [
              "'akram'"
            ],
            "application/vnd.google.colaboratory.intrinsic+json": {
              "type": "string"
            }
          },
          "metadata": {},
          "execution_count": 21
        }
      ]
    },
    {
      "cell_type": "code",
      "source": [
        "var=False  #We can add boolean True or False as value. \n",
        "var"
      ],
      "metadata": {
        "colab": {
          "base_uri": "https://localhost:8080/"
        },
        "id": "4S-w-SrifJgP",
        "outputId": "bde93622-ff18-4ea9-8533-0079e8ccebba"
      },
      "execution_count": null,
      "outputs": [
        {
          "output_type": "execute_result",
          "data": {
            "text/plain": [
              "False"
            ]
          },
          "metadata": {},
          "execution_count": 22
        }
      ]
    },
    {
      "cell_type": "markdown",
      "source": [
        "# Invalid Varables Name"
      ],
      "metadata": {
        "id": "PQe9Zla5fVI1"
      }
    },
    {
      "cell_type": "code",
      "source": [
        "9var= 100  # You can't a variable name with number."
      ],
      "metadata": {
        "colab": {
          "base_uri": "https://localhost:8080/",
          "height": 130
        },
        "id": "iNMCC7wvfgeF",
        "outputId": "96aec35d-8923-4407-ef0f-5c22e23a4291"
      },
      "execution_count": null,
      "outputs": [
        {
          "output_type": "error",
          "ename": "SyntaxError",
          "evalue": "ignored",
          "traceback": [
            "\u001b[0;36m  File \u001b[0;32m\"<ipython-input-23-8f597bfb0deb>\"\u001b[0;36m, line \u001b[0;32m1\u001b[0m\n\u001b[0;31m    9var= 100\u001b[0m\n\u001b[0m       ^\u001b[0m\n\u001b[0;31mSyntaxError\u001b[0m\u001b[0;31m:\u001b[0m invalid syntax\n"
          ]
        }
      ]
    },
    {
      "cell_type": "code",
      "source": [
        "%name=\"Hossain\" #Special Character is not allowed in variable naming."
      ],
      "metadata": {
        "colab": {
          "base_uri": "https://localhost:8080/"
        },
        "id": "vnIUkuv6fs3v",
        "outputId": "9dc954d3-6f5e-4303-b978-5457dd5b9905"
      },
      "execution_count": null,
      "outputs": [
        {
          "output_type": "stream",
          "name": "stderr",
          "text": [
            "UsageError: Line magic function `%name=\"Hossain\"` not found.\n"
          ]
        }
      ]
    },
    {
      "cell_type": "code",
      "source": [
        "variable name= \"Invalid variable\" #We should put an underscore to attach two words in a variable name."
      ],
      "metadata": {
        "colab": {
          "base_uri": "https://localhost:8080/",
          "height": 130
        },
        "id": "QyS8NT0gfaoG",
        "outputId": "ff2c2379-91a0-4bc1-8186-53b3f468611f"
      },
      "execution_count": null,
      "outputs": [
        {
          "output_type": "error",
          "ename": "SyntaxError",
          "evalue": "ignored",
          "traceback": [
            "\u001b[0;36m  File \u001b[0;32m\"<ipython-input-26-8d5942f2c07d>\"\u001b[0;36m, line \u001b[0;32m1\u001b[0m\n\u001b[0;31m    variable name= \"Invalid variable\" #We should put an underscore to attach two words in a variable name.\u001b[0m\n\u001b[0m                ^\u001b[0m\n\u001b[0;31mSyntaxError\u001b[0m\u001b[0;31m:\u001b[0m invalid syntax\n"
          ]
        }
      ]
    },
    {
      "cell_type": "markdown",
      "source": [
        "# Multiple Variable"
      ],
      "metadata": {
        "id": "mOMdi6ZngSj_"
      }
    },
    {
      "cell_type": "code",
      "source": [
        "x,y,z= 20,30,90\n",
        "x,y,z"
      ],
      "metadata": {
        "colab": {
          "base_uri": "https://localhost:8080/"
        },
        "id": "cJeLMWeVgWVM",
        "outputId": "066511ea-84f0-4993-9698-dcf6d5d768e4"
      },
      "execution_count": null,
      "outputs": [
        {
          "output_type": "execute_result",
          "data": {
            "text/plain": [
              "(20, 30, 90)"
            ]
          },
          "metadata": {},
          "execution_count": 27
        }
      ]
    },
    {
      "cell_type": "code",
      "source": [
        "x,y,z= 20,30 #Missing the last value.\n",
        "x,y,z\n"
      ],
      "metadata": {
        "colab": {
          "base_uri": "https://localhost:8080/",
          "height": 183
        },
        "id": "H0L9hR3-ghUF",
        "outputId": "82086cb5-dbb8-4170-8ef3-bd55687153c2"
      },
      "execution_count": null,
      "outputs": [
        {
          "output_type": "error",
          "ename": "ValueError",
          "evalue": "ignored",
          "traceback": [
            "\u001b[0;31m---------------------------------------------------------------------------\u001b[0m",
            "\u001b[0;31mValueError\u001b[0m                                Traceback (most recent call last)",
            "\u001b[0;32m<ipython-input-29-424b16eed5b2>\u001b[0m in \u001b[0;36m<module>\u001b[0;34m\u001b[0m\n\u001b[0;32m----> 1\u001b[0;31m \u001b[0mx\u001b[0m\u001b[0;34m,\u001b[0m\u001b[0my\u001b[0m\u001b[0;34m,\u001b[0m\u001b[0mz\u001b[0m\u001b[0;34m=\u001b[0m \u001b[0;36m20\u001b[0m\u001b[0;34m,\u001b[0m\u001b[0;36m30\u001b[0m \u001b[0;31m#Missing the last value.\u001b[0m\u001b[0;34m\u001b[0m\u001b[0;34m\u001b[0m\u001b[0m\n\u001b[0m\u001b[1;32m      2\u001b[0m \u001b[0mx\u001b[0m\u001b[0;34m,\u001b[0m\u001b[0my\u001b[0m\u001b[0;34m,\u001b[0m\u001b[0mz\u001b[0m\u001b[0;34m\u001b[0m\u001b[0;34m\u001b[0m\u001b[0m\n",
            "\u001b[0;31mValueError\u001b[0m: not enough values to unpack (expected 3, got 2)"
          ]
        }
      ]
    },
    {
      "cell_type": "markdown",
      "source": [
        "# If else Statement in Python!"
      ],
      "metadata": {
        "id": "mRW45WYqg2Ce"
      }
    },
    {
      "cell_type": "code",
      "source": [
        "temperature=30\n",
        "if temperature>=30:\n",
        "  print(\"It's a hot day!\")\n",
        "  print(\"Drink plenty of water\")"
      ],
      "metadata": {
        "colab": {
          "base_uri": "https://localhost:8080/"
        },
        "id": "zzc9FwrDjhiS",
        "outputId": "8d18a1eb-0e2a-4d03-af02-3deeffae939b"
      },
      "execution_count": null,
      "outputs": [
        {
          "output_type": "stream",
          "name": "stdout",
          "text": [
            "It's a hot day!\n",
            "Drink plenty of water\n"
          ]
        }
      ]
    },
    {
      "cell_type": "code",
      "source": [
        "temperature=20  #If the condition of \"if statement\" fails, it will print the last sentence under else condition.\n",
        "if temperature>=30:\n",
        "  print(\"It's a hot day!\")\n",
        "  print(\"Drink plenty of water\")\n",
        "else:\n",
        "  print(\"Conditon fails.\")"
      ],
      "metadata": {
        "colab": {
          "base_uri": "https://localhost:8080/"
        },
        "id": "54raEWxWkn3u",
        "outputId": "d584ba5b-34e5-4ae7-bb7b-85a3977302fb"
      },
      "execution_count": null,
      "outputs": [
        {
          "output_type": "stream",
          "name": "stdout",
          "text": [
            "Conditon fails.\n"
          ]
        }
      ]
    },
    {
      "cell_type": "code",
      "source": [
        "temperature=28  #If the condition of \"if statement\" fails, it will print the last sentence under else condition.\n",
        "if temperature>=30:\n",
        "  print(\"It's a hot day!\")\n",
        "  print(\"Drink plenty of water\")\n",
        "elif temperature>=20 | temperature <30:\n",
        "  print(\"It's a nice day\")\n",
        "  print(\"Let's have a walk\")\n",
        "else:\n",
        "  print(\"Conditon fails.\")"
      ],
      "metadata": {
        "colab": {
          "base_uri": "https://localhost:8080/"
        },
        "id": "W25Bi7YFlgmm",
        "outputId": "859efd74-57d7-455e-d3d8-cfe2826848fe"
      },
      "execution_count": null,
      "outputs": [
        {
          "output_type": "stream",
          "name": "stdout",
          "text": [
            "It's a nice day\n",
            "Let's have a walk\n"
          ]
        }
      ]
    },
    {
      "cell_type": "code",
      "source": [
        "temperature=9  #If the condition of \"if statement\" fails, it will print the last sentence under else condition.\n",
        "if temperature>=30:\n",
        "  print(\"It's a hot day!\")\n",
        "  print(\"Drink plenty of water\")\n",
        "elif temperature>=20 | temperature <30:\n",
        "  print(\"It's a nice day\")\n",
        "  print(\"Let's have a walk\")\n",
        "elif temperature<20:\n",
        "  print(\"It's cold day!\")\n",
        "else:\n",
        "  print(\"Conditon fails.\")"
      ],
      "metadata": {
        "colab": {
          "base_uri": "https://localhost:8080/"
        },
        "id": "BZTBR1rUnjQN",
        "outputId": "3e3c5675-6ced-4cef-a11b-d7520f24e9f9"
      },
      "execution_count": null,
      "outputs": [
        {
          "output_type": "stream",
          "name": "stdout",
          "text": [
            "It's cold day!\n"
          ]
        }
      ]
    },
    {
      "cell_type": "markdown",
      "source": [
        "# Loop Statement!\n",
        "While Loop!\n"
      ],
      "metadata": {
        "id": "7ctXiXKSn8jg"
      }
    },
    {
      "cell_type": "code",
      "source": [
        "#Instead of writing plenty line of code we can use while statement for printing multiple lines!\n",
        "i=1\n",
        "while i<=10:\n",
        "  print(i)\n",
        "  i=i+1 # We set an increment. Which display the numbers incrementing by 1!\n",
        "  "
      ],
      "metadata": {
        "colab": {
          "base_uri": "https://localhost:8080/"
        },
        "id": "nQW4N6oVoB5x",
        "outputId": "5edeb04d-7e7e-4cef-c146-d66cd3b6e2d6"
      },
      "execution_count": null,
      "outputs": [
        {
          "output_type": "stream",
          "name": "stdout",
          "text": [
            "1\n",
            "2\n",
            "3\n",
            "4\n",
            "5\n",
            "6\n",
            "7\n",
            "8\n",
            "9\n",
            "10\n"
          ]
        }
      ]
    },
    {
      "cell_type": "code",
      "source": [
        "i=1\n",
        "while i<=10:\n",
        "  print(\"Data Science\")\n",
        "  i=i+1"
      ],
      "metadata": {
        "colab": {
          "base_uri": "https://localhost:8080/"
        },
        "id": "LzJPm4xRq9lT",
        "outputId": "a19b0a43-cbf5-44d8-b28c-57fc5e76decd"
      },
      "execution_count": null,
      "outputs": [
        {
          "output_type": "stream",
          "name": "stdout",
          "text": [
            "Data Science\n",
            "Data Science\n",
            "Data Science\n",
            "Data Science\n",
            "Data Science\n",
            "Data Science\n",
            "Data Science\n",
            "Data Science\n",
            "Data Science\n",
            "Data Science\n"
          ]
        }
      ]
    },
    {
      "cell_type": "code",
      "source": [
        "i=1\n",
        "while i<=10:\n",
        "  print(i* \"%\")\n",
        "  i=i+1"
      ],
      "metadata": {
        "colab": {
          "base_uri": "https://localhost:8080/"
        },
        "id": "I4K070HjrOO5",
        "outputId": "534ae3d0-19cd-42e4-d093-c82637bbb62b"
      },
      "execution_count": null,
      "outputs": [
        {
          "output_type": "stream",
          "name": "stdout",
          "text": [
            "%\n",
            "%%\n",
            "%%%\n",
            "%%%%\n",
            "%%%%%\n",
            "%%%%%%\n",
            "%%%%%%%\n",
            "%%%%%%%%\n",
            "%%%%%%%%%\n",
            "%%%%%%%%%%\n"
          ]
        }
      ]
    },
    {
      "cell_type": "markdown",
      "source": [
        "# For LOOP"
      ],
      "metadata": {
        "id": "Y5rHPbh_szUy"
      }
    },
    {
      "cell_type": "code",
      "source": [
        "numbers=[1,2,3,4,5,6,7,8,9,10,11,12,13,14,15] #For loop need less line of code than while loop\n",
        "for output in numbers:\n",
        "  print(output)"
      ],
      "metadata": {
        "colab": {
          "base_uri": "https://localhost:8080/"
        },
        "id": "CHKWuZkSs2jE",
        "outputId": "f8037845-5246-43cd-d9ab-a3d40e0ab5c8"
      },
      "execution_count": null,
      "outputs": [
        {
          "output_type": "stream",
          "name": "stdout",
          "text": [
            "1\n",
            "2\n",
            "3\n",
            "4\n",
            "5\n",
            "6\n",
            "7\n",
            "8\n",
            "9\n",
            "10\n",
            "11\n",
            "12\n",
            "13\n",
            "14\n",
            "15\n"
          ]
        }
      ]
    },
    {
      "cell_type": "code",
      "source": [
        "numbers=[1,2,3,4,5,6,7,8,9,10]\n",
        "for output in numbers:\n",
        "  print(\"Data Science\") #We want to print \"Data Science\" string in 10 times."
      ],
      "metadata": {
        "colab": {
          "base_uri": "https://localhost:8080/"
        },
        "id": "ERHdzuyVt23m",
        "outputId": "3ff30daa-f09c-4a64-94ba-7b46d353032b"
      },
      "execution_count": null,
      "outputs": [
        {
          "output_type": "stream",
          "name": "stdout",
          "text": [
            "Data Science\n",
            "Data Science\n",
            "Data Science\n",
            "Data Science\n",
            "Data Science\n",
            "Data Science\n",
            "Data Science\n",
            "Data Science\n",
            "Data Science\n",
            "Data Science\n"
          ]
        }
      ]
    }
  ]
}